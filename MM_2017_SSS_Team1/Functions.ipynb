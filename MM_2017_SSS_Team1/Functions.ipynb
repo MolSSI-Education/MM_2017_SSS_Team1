{
 "cells": [
  {
   "cell_type": "code",
   "execution_count": 1,
   "metadata": {
    "collapsed": true
   },
   "outputs": [],
   "source": [
    "import numpy as np \n",
    "import scipy as sc"
   ]
  },
  {
   "cell_type": "code",
   "execution_count": null,
   "metadata": {
    "collapsed": true
   },
   "outputs": [],
   "source": [
    "def lennard_jones_potential(rij):\n",
    "    rij2 = rij * rij\n",
    "    sig_by_r6 = np.power(1/rij2, 3)\n",
    "    sig_by_r12 = np.power(sig_by_r6, 2)\n",
    "    return 4.0 * (sig_by_r12 - sig_by_r6)"
   ]
  },
  {
   "cell_type": "code",
   "execution_count": 4,
   "metadata": {
    "collapsed": true
   },
   "outputs": [],
   "source": [
    "def Long_range_dispersion(rij):\n",
    "    rij2 = rij * rij\n",
    "    U_lj = lennard_jones_potential(rij)\n",
    "    U_tail = tail_correction(box_length)\n",
    "    S_ = switching_func(rij)\n",
    "    integral = sc.integrate.quad(r ** 2, r_sw, r_cut)\n",
    "    lrj = U_tail + integral * U_lj * (1-S_)\n",
    "    return lrj\n",
    "    \n",
    "    "
   ]
  },
  {
   "cell_type": "code",
   "execution_count": null,
   "metadata": {
    "collapsed": true
   },
   "outputs": [],
   "source": []
  }
 ],
 "metadata": {
  "kernelspec": {
   "display_name": "Python 3",
   "language": "python",
   "name": "python3"
  },
  "language_info": {
   "codemirror_mode": {
    "name": "ipython",
    "version": 3
   },
   "file_extension": ".py",
   "mimetype": "text/x-python",
   "name": "python",
   "nbconvert_exporter": "python",
   "pygments_lexer": "ipython3",
   "version": "3.5.3"
  }
 },
 "nbformat": 4,
 "nbformat_minor": 2
}
